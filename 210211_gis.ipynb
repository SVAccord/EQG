{
 "cells": [
  {
   "cell_type": "code",
   "execution_count": 9,
   "metadata": {},
   "outputs": [],
   "source": [
    "import re\n",
    "#import functions_is as fis\n",
    "\n",
    "import numpy as np\n",
    "import string\n",
    "\n",
    "from itertools import product\n",
    "from itertools import combinations"
   ]
  },
  {
   "cell_type": "code",
   "execution_count": 3,
   "metadata": {
    "collapsed": true
   },
   "outputs": [
    {
     "ename": "NameError",
     "evalue": "name 'm_create' is not defined",
     "output_type": "error",
     "traceback": [
      "\u001b[1;31m---------------------------------------------------------------------------\u001b[0m",
      "\u001b[1;31mNameError\u001b[0m                                 Traceback (most recent call last)",
      "\u001b[1;32m<ipython-input-3-84ed67c45ea4>\u001b[0m in \u001b[0;36m<module>\u001b[1;34m\u001b[0m\n\u001b[0;32m      1\u001b[0m \u001b[0mdim\u001b[0m \u001b[1;33m=\u001b[0m \u001b[1;36m3\u001b[0m\u001b[1;33m\u001b[0m\u001b[1;33m\u001b[0m\u001b[0m\n\u001b[0;32m      2\u001b[0m \u001b[0mlist_m\u001b[0m \u001b[1;33m=\u001b[0m \u001b[1;33m[\u001b[0m\u001b[1;33m]\u001b[0m\u001b[1;33m\u001b[0m\u001b[1;33m\u001b[0m\u001b[0m\n\u001b[1;32m----> 3\u001b[1;33m \u001b[0mlist_m\u001b[0m \u001b[1;33m=\u001b[0m \u001b[0mm_create\u001b[0m\u001b[1;33m(\u001b[0m\u001b[1;36m1\u001b[0m\u001b[1;33m,\u001b[0m \u001b[0mdim\u001b[0m\u001b[1;33m)\u001b[0m\u001b[1;33m\u001b[0m\u001b[1;33m\u001b[0m\u001b[0m\n\u001b[0m\u001b[0;32m      4\u001b[0m \u001b[1;31m#print(list_m)\u001b[0m\u001b[1;33m\u001b[0m\u001b[1;33m\u001b[0m\u001b[1;33m\u001b[0m\u001b[0m\n\u001b[0;32m      5\u001b[0m \u001b[1;33m\u001b[0m\u001b[0m\n",
      "\u001b[1;31mNameError\u001b[0m: name 'm_create' is not defined"
     ]
    }
   ],
   "source": [
    "def listToString(list1):\n",
    "    return (''.join(map(str, list1)))\n"
   ]
  },
  {
   "cell_type": "code",
   "execution_count": 207,
   "metadata": {
    "collapsed": true
   },
   "outputs": [
    {
     "name": "stdout",
     "output_type": "stream",
     "text": [
      "[0 2 3 4 5 7 6 1]\n",
      "[[0 0 0 0]\n",
      " [0 0 0 1]\n",
      " [1 0 0 3]\n",
      " [0 1 0 4]\n",
      " [1 1 0 5]\n",
      " [0 0 1 6]\n",
      " [1 0 1 8]\n",
      " [0 1 1 7]\n",
      " [1 1 1 2]]\n"
     ]
    }
   ],
   "source": [
    "dim = 3\n",
    "l_num = 3"
   ]
  },
  {
   "cell_type": "code",
   "execution_count": 87,
   "metadata": {},
   "outputs": [
    {
     "name": "stdout",
     "output_type": "stream",
     "text": [
      "[0, 1, 2, 3, 4, 5, 6, 7]\n",
      "[[0 0 0]\n",
      " [1 0 0]\n",
      " [0 1 0]\n",
      " [1 1 0]\n",
      " [0 0 1]\n",
      " [1 0 1]\n",
      " [0 1 1]\n",
      " [1 1 1]]\n",
      "[[0 0 0 0]\n",
      " [0 0 1 1]\n",
      " [0 1 0 2]\n",
      " [0 1 1 3]\n",
      " [1 0 0 4]\n",
      " [1 0 1 5]\n",
      " [1 1 0 6]\n",
      " [1 1 1 7]]\n",
      "[0 4 2 6 1 5 3 7]\n",
      "[[0 0 0 0]\n",
      " [1 0 0 4]\n",
      " [0 1 0 2]\n",
      " [1 1 0 6]\n",
      " [0 0 1 1]\n",
      " [1 0 1 5]\n",
      " [0 1 1 3]\n",
      " [1 1 1 7]]\n"
     ]
    }
   ],
   "source": [
    "# 1. создать таблицу листов\n",
    "# 2. на ее основе заполнить табл К\n",
    "l_num = 3\n",
    "K = [i for i in range(0,2**l_num)]\n",
    "print(K)\n",
    "res = np.zeros(l_num, dtype = int)\n",
    "# b = np.array((2,2,2)).reshape(3,1)\n",
    "#print(\"{:03b}\".format(7))\n",
    "\n",
    "for i in range(1, 2**l_num): \n",
    "    tx = \"{num:0{field}b}\".format(num=i,field=l_num)\n",
    "    tx = tx.lstrip()\n",
    "    tx = tx[::-1]\n",
    "    res_t = [int(i) for i in tx]\n",
    "    #res = np.vstack((res, np.array(res_t)))\n",
    "    res = np.vstack((res, res_t))\n",
    "\n",
    "print(res)\n",
    "res = np.hstack((res, np.array(K).reshape(2**l_num,1)))\n",
    "res[:, 0], res[:, 2] = res[:, 2], res[:, 0].copy()\n",
    "print(res)\n",
    "\n",
    "# %timeit my_array[:, 0], my_array[:, 1] = my_array[:, 1], my_array[:, 0].copy()\n",
    "# The slowest run took 15.05 times longer than the fastest. This could mean that an intermediate result is being cached \n",
    "# 1000000 loops, best of 3: 1.72 µs per loop\n",
    "# The advanced slicing times are:\n",
    "\n",
    "# %timeit my_array[:,[0, 1]] = my_array[:,[1, 0]]\n",
    "# The slowest run took 7.38 times longer than the fastest. This could mean that an intermediate result is being cached \n",
    "# 100000 loops, best of 3: 6.9 µs per loop\n",
    "\n",
    "ind1 = np.lexsort((res[:,0], res[:,1], res[:,2]))\n",
    "print(ind1)\n",
    "b = np.zeros(4, dtype = int)\n",
    "\n",
    "for i in ind1:\n",
    "    b = np.vstack((b, res[i,:]))\n",
    "b = b[1:b.shape[0],:]\n",
    "#del first row\n",
    "print(b)"
   ]
  },
  {
   "cell_type": "code",
   "execution_count": 99,
   "metadata": {},
   "outputs": [
    {
     "name": "stdout",
     "output_type": "stream",
     "text": [
      "[0, 1, 0, 1, 0, 1, 0, 1]\n",
      "[1, 2, 3]\n",
      "[(1, 2), (1, 3), (2, 3)]\n",
      "0\n",
      "[[0 0 0 0]\n",
      " [1 0 0 1]\n",
      " [0 1 0 0]\n",
      " [1 1 0 1]\n",
      " [0 0 1 0]\n",
      " [1 0 1 1]\n",
      " [0 1 1 0]\n",
      " [1 1 1 1]]\n",
      "[0 1 2 3 4 5 6 7]\n",
      "[[0 0 0 0]\n",
      " [1 0 0 1]\n",
      " [0 1 0 0]\n",
      " [1 1 0 1]\n",
      " [0 0 1 0]\n",
      " [1 0 1 1]\n",
      " [0 1 1 0]\n",
      " [1 1 1 1]]\n",
      "[[0 1]\n",
      " [0 1]\n",
      " [0 1]\n",
      " [0 1]]\n",
      "found group for merge\n",
      "found group for merge\n",
      "found group for merge\n",
      "found group for merge\n",
      "found group for merge\n",
      "found group for merge\n",
      "1\n",
      "[[0 0 0 0]\n",
      " [1 0 0 1]\n",
      " [0 0 1 0]\n",
      " [1 0 1 1]\n",
      " [0 1 0 0]\n",
      " [1 1 0 1]\n",
      " [0 1 1 0]\n",
      " [1 1 1 1]]\n",
      "[0 1 4 5 2 3 6 7]\n",
      "[[0 0 0 0]\n",
      " [1 0 0 1]\n",
      " [0 1 0 0]\n",
      " [1 1 0 1]\n",
      " [0 0 1 0]\n",
      " [1 0 1 1]\n",
      " [0 1 1 0]\n",
      " [1 1 1 1]]\n",
      "[[0 1]\n",
      " [0 1]\n",
      " [0 1]\n",
      " [0 1]]\n",
      "found group for merge\n",
      "found group for merge\n",
      "found group for merge\n",
      "found group for merge\n",
      "found group for merge\n",
      "found group for merge\n",
      "2\n",
      "[[0 0 0 0]\n",
      " [0 0 1 1]\n",
      " [1 0 0 0]\n",
      " [1 0 1 1]\n",
      " [0 1 0 0]\n",
      " [0 1 1 1]\n",
      " [1 1 0 0]\n",
      " [1 1 1 1]]\n",
      "[0 2 4 6 1 3 5 7]\n",
      "[[0 0 0 0]\n",
      " [1 0 0 0]\n",
      " [0 1 0 0]\n",
      " [1 1 0 0]\n",
      " [0 0 1 1]\n",
      " [1 0 1 1]\n",
      " [0 1 1 1]\n",
      " [1 1 1 1]]\n",
      "[[0 0]\n",
      " [0 0]\n",
      " [1 1]\n",
      " [1 1]]\n",
      "found group for merge\n",
      "found group for merge\n"
     ]
    }
   ],
   "source": [
    "# upper layer iteration\n",
    "lnum = 3\n",
    "dim = 2\n",
    "#K = [i for i in range(0,2**l_num)]\n",
    "K = [i%2 for i in range(0,2**l_num)]\n",
    "print(K)\n",
    "lenumeration = [i for i in range(1,lnum+1)] \n",
    "print(lenumeration)\n",
    "res = np.zeros(lnum, dtype = int)\n",
    "# b = np.array((2,2,2)).reshape(3,1)\n",
    "#print(\"{:03b}\".format(7))\n",
    "\n",
    "for i in range(1, 2**l_num): \n",
    "    tx = \"{num:0{field}b}\".format(num=i,field=l_num)\n",
    "    tx = tx.lstrip()\n",
    "    tx = tx[::-1]\n",
    "    res_t = [int(i) for i in tx]\n",
    "    #res = np.vstack((res, np.array(res_t)))\n",
    "    res = np.vstack((res, res_t))\n",
    "\n",
    "#print(res)\n",
    "res = np.hstack((res, np.array(K).reshape(2**l_num,1)))\n",
    "\n",
    "# собрать новый массив из двух частей: 1. столблцы группы неч. 2. столбцы дополнения\n",
    "# эти два массива объединить в один\n",
    "\n",
    "#lnumingroup = 2 #len(lst[j])\n",
    "lcombinations = list(combinations(range(1, lnum+1), lnumingroup))\n",
    "print(lcombinations)\n",
    "\n",
    "for j in range(0, len(lcombinations)):\n",
    "    # fill res1 (1. столблцы группы неч.)\n",
    "    print(j)\n",
    "    res1 = np.array([res[:, lcombinations[j][0]-1]])\n",
    "    # ini np.array\n",
    "    for n in range(1, len(lcombinations[j])):\n",
    "        res1 = np.vstack((res1, res[:, lcombinations[j][n]-1]))\n",
    "    #print(res1)\n",
    "    \n",
    "    reminder = list(set(lenumeration)-set(lcombinations[j])) \n",
    "    res2 = np.array([res[:, reminder[0]-1]])\n",
    "    for n in range(1, lnum-len(lcombinations[j])):\n",
    "        res2 = np.vstack((res2, res[:, reminder[n]-1]))\n",
    "    #print(res2)\n",
    "    res3 = np.vstack((res1, res2))\n",
    "    res3 = np.vstack((res3, res[:,res.shape[1]-1])).T\n",
    "    print(res3)\n",
    "    \n",
    "    ind1 = np.lexsort((res3[:,0], res3[:,1], res3[:,2]))\n",
    "    print(ind1)\n",
    "    \n",
    "    b = np.zeros(lnum+1, dtype = int)\n",
    "    # для составления таблицы К по групам мне нужет только последний столбец\n",
    "    # или даже только ind1 - можно сократить этот код\n",
    "    for i in ind1:\n",
    "        b = np.vstack((b, res3[i,:]))\n",
    "    b = b[1:b.shape[0],:]\n",
    "    #del first row\n",
    "    print(b)\n",
    "    \n",
    "    tbl_k = np.array(b[:,b.shape[1]-1]).reshape(dim**len(lcombinations[j]),dim**len(reminder))\n",
    "    #K = K.T\n",
    "    print(tbl_k)\n",
    "    # можно реализовать через lcombinations = list(combinations(range(1, lnum+1), lnumingroup))\n",
    "    for q in range(0,tbl_k.shape[0]-1):\n",
    "        #print(\"q\",q)\n",
    "        for w in range(q+1,tbl_k.shape[0]):\n",
    "            #print(\"w\",w)\n",
    "            if (tbl_k[q,:] == tbl_k[w,:]).all(): \n",
    "                print(\"found group for merge\")\n",
    "    # найденные группы склеивай и выходи через брейк к следующему q\n",
    "\n",
    "\n",
    "names = []\n",
    "for i in range(0,len(lst)):\n",
    "    names.append(listToString(lst[i]))\n",
    "# columns for perm in list table\n",
    "print(names)\n",
    "\n",
    "#сделай  pd.data.frame со столбцами с этими именами и размещай в них результаты\n",
    "#print(res)"
   ]
  },
  {
   "cell_type": "code",
   "execution_count": 65,
   "metadata": {
    "scrolled": true
   },
   "outputs": [
    {
     "name": "stdout",
     "output_type": "stream",
     "text": [
      "{1, 3}\n",
      "[1, 3]\n",
      "[1, 2, 3]\n",
      "{1, 3}\n",
      "3.169999945384916e-05\n",
      "[2]\n",
      "4.189999890513718e-05\n",
      "[2]\n"
     ]
    }
   ],
   "source": [
    "from timeit import default_timer as timer\n",
    "\n",
    "print(set(lst[1]))\n",
    "\n",
    "list1 = list(lst[1])\n",
    "print(list1)\n",
    "list2 = [i for i in range(1,lnum+1)] \n",
    "print(list2)\n",
    "print(set(list1))\n",
    "t = timer()\n",
    "set(list2) - set(list1)\n",
    "elapsed = timer() - t\n",
    "print(elapsed)\n",
    "list3=list(set(list2)-set(list1))  \n",
    "print(list3 )\n",
    "t = timer()\n",
    "lst3 = [i for i in list2 if i not in list1]\n",
    "elapsed = timer() - t\n",
    "print(elapsed)\n",
    "\n",
    "print(lst3)\n"
   ]
  },
  {
   "cell_type": "code",
   "execution_count": 9,
   "metadata": {},
   "outputs": [
    {
     "name": "stdout",
     "output_type": "stream",
     "text": [
      "False\n"
     ]
    }
   ],
   "source": [
    "#K = np.zeros((4,4), dtype = int)\n",
    "K = np.empty((4,4), dtype = int)\n",
    "K\n",
    "K = np.array(b[:,3]).reshape(4,2)\n",
    "K = K.T\n",
    "\n",
    "print((K[0,:] == K[1,:]).all())\n",
    "# для следующей итерации замени столбец К на новый, чтобы не копировать таблицу"
   ]
  },
  {
   "cell_type": "code",
   "execution_count": 10,
   "metadata": {},
   "outputs": [
    {
     "name": "stdout",
     "output_type": "stream",
     "text": [
      "[('0', '0', '0'), ('0', '0', '1'), ('0', '1', '0'), ('0', '1', '1'), ('1', '0', '0'), ('1', '0', '1'), ('1', '1', '0'), ('1', '1', '1')]\n"
     ]
    },
    {
     "data": {
      "text/plain": [
       "array([['0', '0', '0'],\n",
       "       ['0', '0', '1'],\n",
       "       ['0', '1', '0'],\n",
       "       ['0', '1', '1'],\n",
       "       ['1', '0', '0'],\n",
       "       ['1', '0', '1'],\n",
       "       ['1', '1', '0'],\n",
       "       ['1', '1', '1']], dtype='<U1')"
      ]
     },
     "execution_count": 10,
     "metadata": {},
     "output_type": "execute_result"
    }
   ],
   "source": [
    "# another way gen table of leaves\n",
    "# chars = '0'\n",
    "# print(list(product(chars, repeat=4)))\n",
    "chars = '01'\n",
    "print(list(product(chars, repeat=3)))\n",
    "t = np.array(list(product(chars, repeat=3)))\n",
    "t"
   ]
  }
 ],
 "metadata": {
  "kernelspec": {
   "display_name": "Python 3",
   "language": "python",
   "name": "python3"
  },
  "language_info": {
   "codemirror_mode": {
    "name": "ipython",
    "version": 3
   },
   "file_extension": ".py",
   "mimetype": "text/x-python",
   "name": "python",
   "nbconvert_exporter": "python",
   "pygments_lexer": "ipython3",
   "version": "3.8.5"
  }
 },
 "nbformat": 4,
 "nbformat_minor": 4
}
